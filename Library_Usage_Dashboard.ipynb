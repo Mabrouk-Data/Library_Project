{
 "cells": [
  {
   "cell_type": "code",
   "execution_count": 1,
   "metadata": {},
   "outputs": [],
   "source": [
    "import streamlit as st"
   ]
  },
  {
   "cell_type": "code",
   "execution_count": 10,
   "metadata": {},
   "outputs": [
    {
     "name": "stdout",
     "output_type": "stream",
     "text": [
      "Overwriting Library_Usage.py\n"
     ]
    }
   ],
   "source": [
    "%%writefile Library_Usage.py\n",
    "\n",
    "import pandas as pd\n",
    "import plotly.express as px\n",
    "import plotly.figure_factory as ff\n",
    "import streamlit as st\n",
    "\n",
    "# read dataframe\n",
    "df = pd.read_csv('small_df.csv')\n",
    "\n",
    "st.header('Library Usage Dashboard')\n",
    "\n",
    "st.sidebar.title('Filters')\n",
    "\n",
    "#selective FeedBack Side bar with No filters option\n",
    "\n",
    "patron_options = ['No Filter'] + df['Patron Type Definition'].unique().tolist()\n",
    "notice_options = ['No Filter'] + df['Notice Preference Definition'].unique().tolist()\n",
    "email_options = ['No Filter'] + df['Provided Email Address'].unique().tolist()\n",
    "county_options = ['No Filter'] + df['Outside of County'].unique().tolist()\n",
    "\n",
    "\n",
    "selected_patrons = st.sidebar.multiselect('Patron Type'.title() , patron_options  , default='No Filter')\n",
    "selected_notice = st.sidebar.multiselect('Notice Preference'.title() , notice_options , default='No Filter')\n",
    "selected_email = st.sidebar.multiselect('Provided Email'.title() , email_options , default='No Filter')\n",
    "selected_county = st.sidebar.multiselect('County Status'.title() , county_options , default='No Filter')\n",
    "\n",
    "filtered_df = df.copy()\n",
    "\n",
    "\n",
    "if 'No Filter' not in selected_patrons:\n",
    "    filtered_df = filtered_df[filtered_df['Patron Type Definition'].isin(selected_patrons)]\n",
    "\n",
    "if 'No Filter' not in selected_notice:\n",
    "    filtered_df = filtered_df[filtered_df['Notice Preference Definition'].isin(selected_notice)]\n",
    "\n",
    "if 'No Filter' not in selected_email:\n",
    "    filtered_df = filtered_df[filtered_df['Provided Email Address'].isin(selected_email)]\n",
    "\n",
    "if 'No Filter' not in selected_county:\n",
    "    filtered_df = filtered_df[filtered_df['Outside of County'].isin(selected_county)]\n",
    "\n",
    "#creating tabs\n",
    "data , Dashboard = st.tabs(['Data' , 'Dashboard'])\n",
    "\n",
    "with data:\n",
    "  \n",
    "  st.header('Raw Data')\n",
    "  \n",
    "  fig0= ff.create_table(filtered_df)\n",
    "  fig0.update_layout(width = 1050)\n",
    "  st.plotly_chart(fig0)\n",
    "\n",
    "with Dashboard:\n",
    "  \n",
    "  st.subheader('Total Checkouts Analysis')\n",
    "  \n",
    "  col1 , col2 , col3 = st.columns(3)\n",
    "  \n",
    "  with col1 :\n",
    "    \n",
    "    st.subheader('Patron Type')\n",
    "    \n",
    "    fig1_1 = px.pie(data_frame = filtered_df , names = filtered_df['Patron Type Definition'] \n",
    "                  , values =filtered_df['Total Checkouts'] )\n",
    "    fig1_1.update_layout(width = 320 , height = 320 , title = 'Patron Type')\n",
    "    st.plotly_chart(fig1_1)\n",
    "    \n",
    "    \n",
    "    fig1_2 = px.histogram(data_frame=df, x=filtered_df['Patron Type Definition'], y=filtered_df['Total Checkouts'] ,\n",
    "                        color = filtered_df['Home Library Definition'] ,barmode = 'group', text_auto = True)\n",
    "    fig1_2.update_layout(width = 320 , height = 320 , title = 'Home Library' )\n",
    "    st.plotly_chart(fig1_2)\n",
    "    \n",
    "    \n",
    "    \n",
    "    \n",
    "  with col2 :\n",
    "    \n",
    "    st.subheader('Year Registered and Notice')\n",
    "    \n",
    "    fig2_1 = px.histogram(data_frame=df, x=filtered_df['Year Patron Registered'].sort_values().astype('O')\n",
    "                        , y=filtered_df['Total Checkouts'] , text_auto = True )\n",
    "    fig2_1.update_layout(width = 320 , height = 320 , title = 'Year Patron Registered' )\n",
    "    st.plotly_chart(fig2_1)\n",
    "    \n",
    "    fig2_2 = px.histogram(data_frame=df, x=filtered_df['Notice Preference Definition'], y=filtered_df['Total Checkouts'] ,\n",
    "                        color = filtered_df['Provided Email Address'] ,barmode = 'group', text_auto = True )\n",
    "    fig2_2.update_layout(width = 320 , height = 320 , title = 'Notice Pref (provided email)' )\n",
    "    st.plotly_chart(fig2_2)\n",
    "    \n",
    "  with col3 :\n",
    "    \n",
    "    st.subheader('Active Circulation')\n",
    "    \n",
    "    fig3_1 = px.histogram(data_frame = filtered_df , x = filtered_df['Circulation Active Month'] \n",
    "                        , y=filtered_df['Total Checkouts'] , text_auto = True , color =  filtered_df['Circulation Active Month'])\n",
    "    fig3_1.update_layout(width = 320 , height = 320, title = 'Circulation Active Month')\n",
    "    st.plotly_chart(fig3_1)\n",
    "    \n",
    "    fig3_2 = px.histogram(data_frame = filtered_df , x = filtered_df['Circulation Active Year'] \n",
    "                        , y=filtered_df['Total Checkouts'] , text_auto = True , color = filtered_df['Circulation Active Year'])\n",
    "    fig3_2.update_layout(width = 320 , height = 320 , title = 'Circulation Active Year')\n",
    "    st.plotly_chart(fig3_2)\n",
    "    \n",
    "    \n"
   ]
  },
  {
   "cell_type": "code",
   "execution_count": 11,
   "metadata": {},
   "outputs": [
    {
     "name": "stdout",
     "output_type": "stream",
     "text": [
      "^C\n"
     ]
    }
   ],
   "source": [
    "! streamlit run Library_Usage.py"
   ]
  },
  {
   "cell_type": "code",
   "execution_count": null,
   "metadata": {},
   "outputs": [],
   "source": []
  }
 ],
 "metadata": {
  "kernelspec": {
   "display_name": "myenv",
   "language": "python",
   "name": "python3"
  },
  "language_info": {
   "codemirror_mode": {
    "name": "ipython",
    "version": 3
   },
   "file_extension": ".py",
   "mimetype": "text/x-python",
   "name": "python",
   "nbconvert_exporter": "python",
   "pygments_lexer": "ipython3",
   "version": "3.11.8"
  }
 },
 "nbformat": 4,
 "nbformat_minor": 2
}
